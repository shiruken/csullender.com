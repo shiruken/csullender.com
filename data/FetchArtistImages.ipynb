{
 "cells": [
  {
   "cell_type": "code",
   "execution_count": null,
   "id": "amino-texture",
   "metadata": {},
   "outputs": [],
   "source": [
    "import pandas as pd\n",
    "import requests\n",
    "import urllib.parse\n",
    "import urllib.request\n",
    "from bs4 import BeautifulSoup\n",
    "import hashlib\n",
    "from time import sleep"
   ]
  },
  {
   "cell_type": "markdown",
   "id": "joint-organizer",
   "metadata": {},
   "source": [
    "### Load in the existing data"
   ]
  },
  {
   "cell_type": "code",
   "execution_count": null,
   "id": "median-fetish",
   "metadata": {},
   "outputs": [],
   "source": [
    "filename = \"../content/live-music/artists.csv\"\n",
    "df = pd.read_csv(filename, header=None, usecols=[0, 1], names=['artist', 'url'], dtype=object)\n",
    "df.sort_values(by=['artist'], key=lambda x: x.str.lower(), ignore_index=True, inplace=True)"
   ]
  },
  {
   "cell_type": "code",
   "execution_count": null,
   "id": "ultimate-complexity",
   "metadata": {},
   "outputs": [],
   "source": [
    "df"
   ]
  },
  {
   "cell_type": "markdown",
   "id": "daily-passport",
   "metadata": {},
   "source": [
    "### Lookup missing artist images"
   ]
  },
  {
   "cell_type": "code",
   "execution_count": null,
   "id": "destroyed-folks",
   "metadata": {},
   "outputs": [],
   "source": [
    "def get_img(artist):\n",
    "    \"\"\"Download artist image from LastFM and return filename\"\"\"\n",
    "\n",
    "    url = f\"https://www.last.fm/music/{urllib.parse.quote_plus(artist)}/+images\"\n",
    "    r = requests.get(url)\n",
    "    soup = BeautifulSoup(r.text, \"html.parser\")\n",
    "    img = soup.find(\"meta\", property=\"og:image\")['content']\n",
    "    img = img.replace(\"ar0\", \"avatar170s\") # 170x170 square image\n",
    "    return img"
   ]
  },
  {
   "cell_type": "code",
   "execution_count": null,
   "id": "smooth-madness",
   "metadata": {},
   "outputs": [],
   "source": [
    "for i, content in df['url'].items():\n",
    "    if pd.isnull(content):\n",
    "        artist = df.iloc[i]['artist']\n",
    "        df.at[i, 'url'] = get_img(artist)\n",
    "        print(f\"Updated {artist}\")\n",
    "        sleep(1)"
   ]
  },
  {
   "cell_type": "code",
   "execution_count": null,
   "id": "given-luxembourg",
   "metadata": {},
   "outputs": [],
   "source": [
    "df.to_csv(filename, index=False, header=False, columns=['artist', 'url'])"
   ]
  },
  {
   "cell_type": "code",
   "execution_count": null,
   "id": "recorded-bubble",
   "metadata": {},
   "outputs": [],
   "source": []
  },
  {
   "cell_type": "markdown",
   "id": "unlike-awareness",
   "metadata": {},
   "source": [
    "### Force update all artist images"
   ]
  },
  {
   "cell_type": "code",
   "execution_count": null,
   "id": "sexual-merchant",
   "metadata": {},
   "outputs": [],
   "source": [
    "for i, _ in df['url'].items():\n",
    "    artist = df.iloc[i]['artist']\n",
    "    df.at[i, 'url'] = get_img(artist)\n",
    "    print(f\"Updated {artist}\")\n",
    "    sleep(1)"
   ]
  },
  {
   "cell_type": "code",
   "execution_count": null,
   "id": "shaped-school",
   "metadata": {},
   "outputs": [],
   "source": [
    "df.to_csv(filename, index=False, header=False)"
   ]
  },
  {
   "cell_type": "code",
   "execution_count": null,
   "id": "8b3f5bf2-b73e-4bdd-8755-219b1baefc3b",
   "metadata": {},
   "outputs": [],
   "source": []
  }
 ],
 "metadata": {
  "kernelspec": {
   "display_name": "csullender.com",
   "language": "python",
   "name": "csullender.com"
  },
  "language_info": {
   "codemirror_mode": {
    "name": "ipython",
    "version": 3
   },
   "file_extension": ".py",
   "mimetype": "text/x-python",
   "name": "python",
   "nbconvert_exporter": "python",
   "pygments_lexer": "ipython3",
   "version": "3.9.7"
  }
 },
 "nbformat": 4,
 "nbformat_minor": 5
}
